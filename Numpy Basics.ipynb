{
 "cells": [
  {
   "cell_type": "code",
   "execution_count": 49,
   "id": "3afdfc92",
   "metadata": {},
   "outputs": [],
   "source": [
    "import numpy as np"
   ]
  },
  {
   "cell_type": "markdown",
   "id": "527f338e",
   "metadata": {},
   "source": [
    "***Write a Numpy program to get the Numpy version and show the Numpy build configuration.***"
   ]
  },
  {
   "cell_type": "code",
   "execution_count": 35,
   "id": "48cdf3d1",
   "metadata": {},
   "outputs": [
    {
     "name": "stdout",
     "output_type": "stream",
     "text": [
      "1.24.3\n"
     ]
    }
   ],
   "source": [
    "print(np.__version__)"
   ]
  },
  {
   "cell_type": "code",
   "execution_count": 36,
   "id": "e8ded639",
   "metadata": {},
   "outputs": [
    {
     "name": "stdout",
     "output_type": "stream",
     "text": [
      "blas_armpl_info:\n",
      "  NOT AVAILABLE\n",
      "blas_mkl_info:\n",
      "    libraries = ['mkl_rt']\n",
      "    library_dirs = ['C:/Users/Hp/anaconda3/anaconda1\\\\Library\\\\lib']\n",
      "    define_macros = [('SCIPY_MKL_H', None), ('HAVE_CBLAS', None)]\n",
      "    include_dirs = ['C:/Users/Hp/anaconda3/anaconda1\\\\Library\\\\include']\n",
      "blas_opt_info:\n",
      "    libraries = ['mkl_rt']\n",
      "    library_dirs = ['C:/Users/Hp/anaconda3/anaconda1\\\\Library\\\\lib']\n",
      "    define_macros = [('SCIPY_MKL_H', None), ('HAVE_CBLAS', None)]\n",
      "    include_dirs = ['C:/Users/Hp/anaconda3/anaconda1\\\\Library\\\\include']\n",
      "lapack_armpl_info:\n",
      "  NOT AVAILABLE\n",
      "lapack_mkl_info:\n",
      "    libraries = ['mkl_rt']\n",
      "    library_dirs = ['C:/Users/Hp/anaconda3/anaconda1\\\\Library\\\\lib']\n",
      "    define_macros = [('SCIPY_MKL_H', None), ('HAVE_CBLAS', None)]\n",
      "    include_dirs = ['C:/Users/Hp/anaconda3/anaconda1\\\\Library\\\\include']\n",
      "lapack_opt_info:\n",
      "    libraries = ['mkl_rt']\n",
      "    library_dirs = ['C:/Users/Hp/anaconda3/anaconda1\\\\Library\\\\lib']\n",
      "    define_macros = [('SCIPY_MKL_H', None), ('HAVE_CBLAS', None)]\n",
      "    include_dirs = ['C:/Users/Hp/anaconda3/anaconda1\\\\Library\\\\include']\n",
      "Supported SIMD extensions in this NumPy install:\n",
      "    baseline = SSE,SSE2,SSE3\n",
      "    found = SSSE3,SSE41,POPCNT,SSE42,AVX,F16C,FMA3,AVX2\n",
      "    not found = AVX512F,AVX512CD,AVX512_SKX,AVX512_CLX,AVX512_CNL,AVX512_ICL\n",
      "None\n"
     ]
    }
   ],
   "source": [
    "print(np.show_config())"
   ]
  },
  {
   "cell_type": "markdown",
   "id": "0ad23f8d",
   "metadata": {},
   "source": [
    "***Write a NumPy program to create an array with basic functions*** "
   ]
  },
  {
   "cell_type": "code",
   "execution_count": 37,
   "id": "fe3a3387",
   "metadata": {},
   "outputs": [
    {
     "name": "stdout",
     "output_type": "stream",
     "text": [
      "[1 2 3 4 5 6]\n",
      "<class 'numpy.ndarray'>\n",
      "6\n",
      "1\n",
      "(6,)\n"
     ]
    }
   ],
   "source": [
    "x = np.array([1,2,3,4,5,6])\n",
    "print(x)\n",
    "\n",
    "print(type(x))\n",
    "print(len(x))\n",
    "print(x.ndim)\n",
    "print(x.shape)\n"
   ]
  },
  {
   "cell_type": "markdown",
   "id": "4588be49",
   "metadata": {},
   "source": [
    "***Write a NumPy program to test whether none of the elements of a given array are zero.***"
   ]
  },
  {
   "cell_type": "code",
   "execution_count": 38,
   "id": "6bd68f5b",
   "metadata": {},
   "outputs": [
    {
     "name": "stdout",
     "output_type": "stream",
     "text": [
      "[1 2 3 4 5]\n",
      "True\n",
      "[0 1 2 3 4]\n",
      "False\n"
     ]
    }
   ],
   "source": [
    "x = np.array([1,2,3,4,5])\n",
    "print(x) # print original array\n",
    "print(np.all(x)) # True, since no zero is present\n",
    "\n",
    "x = np.array([0,1,2,3,4])\n",
    "print(x)\n",
    "print(np.all(x)) # False, zero is present"
   ]
  },
  {
   "cell_type": "markdown",
   "id": "50619f31",
   "metadata": {},
   "source": [
    "***Write a NumPy program to test if any of the elements of a given array are non-zero.***"
   ]
  },
  {
   "cell_type": "code",
   "execution_count": 39,
   "id": "45aedff6",
   "metadata": {},
   "outputs": [
    {
     "name": "stdout",
     "output_type": "stream",
     "text": [
      "[1 0 0 0]\n",
      "True\n",
      "[0 0 0 0]\n",
      "False\n"
     ]
    }
   ],
   "source": [
    "x = np.array([1,0,0,0])\n",
    "print(x) # print original array\n",
    "print(np.any(x)) # True, since one non-zero is present\n",
    "\n",
    "x = np.array([0,0,0,0])\n",
    "print(x)\n",
    "print(np.any(x)) # False, no non-zero is present"
   ]
  },
  {
   "cell_type": "markdown",
   "id": "c43ddeab",
   "metadata": {},
   "source": [
    "***Write a NumPy program to test element-wise for complex numbers***"
   ]
  },
  {
   "cell_type": "code",
   "execution_count": 40,
   "id": "618d0e3c",
   "metadata": {},
   "outputs": [
    {
     "name": "stdout",
     "output_type": "stream",
     "text": [
      "[ 1.  +2.j  6.  +0.j 98.76+0.j  0.  +7.j]\n",
      "[ True False False  True]\n",
      "[False  True  True False]\n"
     ]
    }
   ],
   "source": [
    "x = np.array([1+2j, 6, 98.76, 7j])\n",
    "print(x)\n",
    "print(np.iscomplex(x))\n",
    "print(np.isreal(x))"
   ]
  },
  {
   "cell_type": "markdown",
   "id": "62bc84a3",
   "metadata": {},
   "source": [
    "***Write a NumPy program to create an element-wise comparison (greater, greater_equal, less and less_equal) of two given arrays.***"
   ]
  },
  {
   "cell_type": "code",
   "execution_count": 41,
   "id": "7ea75d86",
   "metadata": {},
   "outputs": [
    {
     "name": "stdout",
     "output_type": "stream",
     "text": [
      "[6 5 8] [1 9 8]\n",
      "[ True False False]\n",
      "[False  True  True]\n"
     ]
    }
   ],
   "source": [
    "x = np.array([6,5,8])\n",
    "y = np.array([1,9,8])\n",
    "print(x, y)\n",
    "\n",
    "# np.greater(), np.greater_equal(), np.less,....\n",
    "print(np.greater(x, y))\n",
    "print(np.less_equal(x, y))"
   ]
  },
  {
   "cell_type": "markdown",
   "id": "300452e4",
   "metadata": {},
   "source": [
    "***Write a NumPy program to create an array and determine the size of the memory occupied by the array.***"
   ]
  },
  {
   "cell_type": "code",
   "execution_count": 42,
   "id": "ecfbe6f0",
   "metadata": {},
   "outputs": [
    {
     "name": "stdout",
     "output_type": "stream",
     "text": [
      "[   6 1050   88]\n",
      "12 bytes\n"
     ]
    }
   ],
   "source": [
    "x = np.array([6,1050,88])\n",
    "print(x)\n",
    "print(\"%d bytes\" % (x.size*x.itemsize))"
   ]
  },
  {
   "cell_type": "markdown",
   "id": "6c61e64d",
   "metadata": {},
   "source": [
    "***Write a NumPy program to create an array of 10 zeros, 10 ones, and 10 fives.***"
   ]
  },
  {
   "cell_type": "code",
   "execution_count": 43,
   "id": "99fd1ff6",
   "metadata": {},
   "outputs": [
    {
     "name": "stdout",
     "output_type": "stream",
     "text": [
      "[0. 0. 0. 0. 0. 0. 0. 0. 0. 0.]\n",
      "[1. 1. 1. 1. 1. 1. 1. 1. 1. 1.]\n",
      "[5. 5. 5. 5. 5. 5. 5. 5. 5. 5.]\n"
     ]
    }
   ],
   "source": [
    "x = np.zeros(10)\n",
    "print(x)\n",
    "\n",
    "x = np.ones(10)\n",
    "print(x)\n",
    "\n",
    "x = np.ones(10) *5\n",
    "print(x)"
   ]
  },
  {
   "cell_type": "markdown",
   "id": "48ad597f",
   "metadata": {},
   "source": [
    "***Write a NumPy program to create an array of even integers from 10 to 60.***"
   ]
  },
  {
   "cell_type": "code",
   "execution_count": 44,
   "id": "a5a11259",
   "metadata": {},
   "outputs": [
    {
     "name": "stdout",
     "output_type": "stream",
     "text": [
      "[10 12 14 16 18 20 22 24 26 28 30 32 34 36 38 40 42 44 46 48 50 52 54 56\n",
      " 58 60]\n"
     ]
    }
   ],
   "source": [
    "x =np.arange(10,61,2)\n",
    "print(x)"
   ]
  },
  {
   "cell_type": "markdown",
   "id": "0c11b34d",
   "metadata": {},
   "source": [
    "***Write a NumPy program to create a 3x3 identity matrix.***"
   ]
  },
  {
   "cell_type": "code",
   "execution_count": 45,
   "id": "c357bc6f",
   "metadata": {},
   "outputs": [
    {
     "name": "stdout",
     "output_type": "stream",
     "text": [
      "[[1. 0. 0.]\n",
      " [0. 1. 0.]\n",
      " [0. 0. 1.]]\n"
     ]
    }
   ],
   "source": [
    "x = np.identity(3)\n",
    "print(x)"
   ]
  },
  {
   "cell_type": "markdown",
   "id": "65b402fc",
   "metadata": {},
   "source": [
    "***Write a NumPy program to generate three random number between 0 and 10.***"
   ]
  },
  {
   "cell_type": "code",
   "execution_count": 46,
   "id": "b47b8dba",
   "metadata": {},
   "outputs": [
    {
     "name": "stdout",
     "output_type": "stream",
     "text": [
      "[ 11.94704745  -5.50477697 -11.39128985]\n"
     ]
    }
   ],
   "source": [
    "rand_n = np.random.normal(1,10,3)\n",
    "print(rand_n)"
   ]
  },
  {
   "cell_type": "markdown",
   "id": "d99812b0",
   "metadata": {},
   "source": [
    "***Write a NumPy program to create a 3X4 array and iterate over it.***"
   ]
  },
  {
   "cell_type": "code",
   "execution_count": 52,
   "id": "5091c8a6",
   "metadata": {},
   "outputs": [
    {
     "name": "stdout",
     "output_type": "stream",
     "text": [
      "[[ 1  2  3  4]\n",
      " [ 5  6  7  8]\n",
      " [ 9 10 11 12]]\n",
      "1  2  3  4  5  6  7  8  9  10  11  12  \n",
      "\n",
      "2\n"
     ]
    }
   ],
   "source": [
    "xy = np.arange(1,13).reshape((3,4))\n",
    "print(xy)\n",
    "\n",
    "for x in np.nditer(xy):\n",
    "    print(x, end = '  ' )\n",
    "\n",
    "print('\\n')\n",
    "print(xy.ndim)"
   ]
  },
  {
   "cell_type": "markdown",
   "id": "d7c149f7",
   "metadata": {},
   "source": [
    "***Write a NumPy program to create a 1-d array of 18 elements.***"
   ]
  },
  {
   "cell_type": "code",
   "execution_count": 53,
   "id": "bb7c55f8",
   "metadata": {},
   "outputs": [
    {
     "name": "stdout",
     "output_type": "stream",
     "text": [
      "[ 0  1  2  3  4  5  6  7  8  9 10 11 12 13 14 15 16 17]\n",
      "1\n"
     ]
    }
   ],
   "source": [
    "x = np.arange(18)\n",
    "print(x)\n",
    "print(x.ndim)\n"
   ]
  },
  {
   "cell_type": "markdown",
   "id": "288fed45",
   "metadata": {},
   "source": [
    "***Write a NumPy program to create a vector of array and reshaping it.***"
   ]
  },
  {
   "cell_type": "code",
   "execution_count": 54,
   "id": "d09b9752",
   "metadata": {},
   "outputs": [
    {
     "name": "stdout",
     "output_type": "stream",
     "text": [
      "[[[ 0]\n",
      "  [ 1]\n",
      "  [ 2]]\n",
      "\n",
      " [[ 3]\n",
      "  [ 4]\n",
      "  [ 5]]\n",
      "\n",
      " [[ 6]\n",
      "  [ 7]\n",
      "  [ 8]]\n",
      "\n",
      " [[ 9]\n",
      "  [10]\n",
      "  [11]]\n",
      "\n",
      " [[12]\n",
      "  [13]\n",
      "  [14]]\n",
      "\n",
      " [[15]\n",
      "  [16]\n",
      "  [17]]]\n"
     ]
    }
   ],
   "source": [
    "y = x.reshape(6,3,1)\n",
    "print(y)"
   ]
  },
  {
   "cell_type": "code",
   "execution_count": 63,
   "id": "fa4095c5",
   "metadata": {},
   "outputs": [],
   "source": [
    "x = np.array([[1,3],\n",
    "              [2,4]])\n",
    "y = np.array([[2,7],\n",
    "              [3,2]])\n"
   ]
  },
  {
   "cell_type": "markdown",
   "id": "c50ebb2d",
   "metadata": {},
   "source": [
    "***Write a NumPy program to multiply two given arrays of the same size element-by-element.***"
   ]
  },
  {
   "cell_type": "code",
   "execution_count": 64,
   "id": "8d105dc5",
   "metadata": {},
   "outputs": [
    {
     "name": "stdout",
     "output_type": "stream",
     "text": [
      "[[ 2 21]\n",
      " [ 6  8]]\n"
     ]
    }
   ],
   "source": [
    "print(np.multiply(x, y))"
   ]
  },
  {
   "cell_type": "markdown",
   "id": "765d90b4",
   "metadata": {},
   "source": [
    "***Write a NumPy program to add two given arrays of the same size element-by-element.***"
   ]
  },
  {
   "cell_type": "code",
   "execution_count": 65,
   "id": "7054950c",
   "metadata": {},
   "outputs": [
    {
     "name": "stdout",
     "output_type": "stream",
     "text": [
      "[[ 3 10]\n",
      " [ 5  6]]\n"
     ]
    }
   ],
   "source": [
    "print(np.add(x, y))"
   ]
  },
  {
   "cell_type": "markdown",
   "id": "cd305c22",
   "metadata": {},
   "source": [
    "***Write a NumPy program to subtract two given arrays of the same size element-by-element.***"
   ]
  },
  {
   "cell_type": "code",
   "execution_count": 66,
   "id": "ee9704cb",
   "metadata": {},
   "outputs": [
    {
     "name": "stdout",
     "output_type": "stream",
     "text": [
      "[[-1 -4]\n",
      " [-1  2]]\n"
     ]
    }
   ],
   "source": [
    "print(np.subtract(x, y))"
   ]
  },
  {
   "cell_type": "markdown",
   "id": "c65c0c31",
   "metadata": {},
   "source": [
    "***Write a NumPy program to dot product two given arrays of the same size element-by-element.***"
   ]
  },
  {
   "cell_type": "code",
   "execution_count": 67,
   "id": "5f539435",
   "metadata": {},
   "outputs": [
    {
     "name": "stdout",
     "output_type": "stream",
     "text": [
      "[[11 13]\n",
      " [16 22]]\n",
      "[[11 13]\n",
      " [16 22]]\n"
     ]
    }
   ],
   "source": [
    "print(x.dot(y))\n",
    "print(np.dot(x, y))"
   ]
  },
  {
   "cell_type": "markdown",
   "id": "b0830bbc",
   "metadata": {},
   "source": [
    "***Write a NumPy program to dot product two given arrays of the same size element-by-element.***"
   ]
  },
  {
   "cell_type": "code",
   "execution_count": 68,
   "id": "880bc50f",
   "metadata": {},
   "outputs": [
    {
     "name": "stdout",
     "output_type": "stream",
     "text": [
      "[[0.5        0.42857143]\n",
      " [0.66666667 2.        ]]\n"
     ]
    }
   ],
   "source": [
    "print(np.divide(x, y))"
   ]
  },
  {
   "cell_type": "markdown",
   "id": "13a7f64a",
   "metadata": {},
   "source": [
    "***Write a NumPy program to return sum of all array element over a given axis.***"
   ]
  },
  {
   "cell_type": "code",
   "execution_count": 72,
   "id": "34c584f9",
   "metadata": {},
   "outputs": [
    {
     "name": "stdout",
     "output_type": "stream",
     "text": [
      "[[1 3]\n",
      " [2 4]]\n"
     ]
    }
   ],
   "source": [
    "print(x)"
   ]
  },
  {
   "cell_type": "code",
   "execution_count": 69,
   "id": "97fd20dc",
   "metadata": {},
   "outputs": [
    {
     "name": "stdout",
     "output_type": "stream",
     "text": [
      "10\n"
     ]
    }
   ],
   "source": [
    "print(np.sum(x))"
   ]
  },
  {
   "cell_type": "code",
   "execution_count": 70,
   "id": "c912964b",
   "metadata": {},
   "outputs": [
    {
     "name": "stdout",
     "output_type": "stream",
     "text": [
      "[3 7]\n"
     ]
    }
   ],
   "source": [
    "print(np.sum(x, axis = 0))"
   ]
  },
  {
   "cell_type": "code",
   "execution_count": 71,
   "id": "d67d88f4",
   "metadata": {},
   "outputs": [
    {
     "name": "stdout",
     "output_type": "stream",
     "text": [
      "[4 6]\n"
     ]
    }
   ],
   "source": [
    "print(np.sum(x, axis = 1))"
   ]
  },
  {
   "cell_type": "markdown",
   "id": "63f43eb6",
   "metadata": {},
   "source": [
    "***Write a NumPy program to swap rows and columns of a given array in reverse order.***"
   ]
  },
  {
   "cell_type": "code",
   "execution_count": 74,
   "id": "c994b2a0",
   "metadata": {},
   "outputs": [],
   "source": [
    "x = np.array([[[1, 2, 3, 4],\n",
    "               [0, 1, 3, 4],\n",
    "               [90, 91, 93, 94],\n",
    "               [5, 0, 3, 2]]])"
   ]
  },
  {
   "cell_type": "code",
   "execution_count": 75,
   "id": "2746d201",
   "metadata": {},
   "outputs": [
    {
     "name": "stdout",
     "output_type": "stream",
     "text": [
      "[[[ 5  0  3  2]\n",
      "  [90 91 93 94]\n",
      "  [ 0  1  3  4]\n",
      "  [ 1  2  3  4]]]\n"
     ]
    }
   ],
   "source": [
    "print(x[::-1,::-1])"
   ]
  },
  {
   "cell_type": "markdown",
   "id": "33722ce2",
   "metadata": {},
   "source": [
    "***Write a NumPy program to sort a given array by row and column in ascending order.***"
   ]
  },
  {
   "cell_type": "code",
   "execution_count": 82,
   "id": "d0770bb9",
   "metadata": {},
   "outputs": [],
   "source": [
    "a = np.array([[5.54, 3.38, 7.99],\n",
    "              [3.54, 4.38, 6.99],\n",
    "              [1.54, 2.39, 9.29]])\n"
   ]
  },
  {
   "cell_type": "code",
   "execution_count": 83,
   "id": "3c2f2f5e",
   "metadata": {},
   "outputs": [
    {
     "name": "stdout",
     "output_type": "stream",
     "text": [
      "[[3.38 5.54 7.99]\n",
      " [3.54 4.38 6.99]\n",
      " [1.54 2.39 9.29]]\n"
     ]
    }
   ],
   "source": [
    "print(np.sort(a)) # row"
   ]
  },
  {
   "cell_type": "code",
   "execution_count": 85,
   "id": "589cceef",
   "metadata": {},
   "outputs": [
    {
     "name": "stdout",
     "output_type": "stream",
     "text": [
      "[[1.54 2.39 6.99]\n",
      " [3.54 3.38 7.99]\n",
      " [5.54 4.38 9.29]]\n"
     ]
    }
   ],
   "source": [
    "print(np.sort(a, axis=0)) # col"
   ]
  },
  {
   "cell_type": "code",
   "execution_count": null,
   "id": "ef6f1723",
   "metadata": {},
   "outputs": [],
   "source": []
  }
 ],
 "metadata": {
  "kernelspec": {
   "display_name": "Python 3 (ipykernel)",
   "language": "python",
   "name": "python3"
  },
  "language_info": {
   "codemirror_mode": {
    "name": "ipython",
    "version": 3
   },
   "file_extension": ".py",
   "mimetype": "text/x-python",
   "name": "python",
   "nbconvert_exporter": "python",
   "pygments_lexer": "ipython3",
   "version": "3.11.5"
  }
 },
 "nbformat": 4,
 "nbformat_minor": 5
}
